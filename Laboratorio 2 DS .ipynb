{
 "cells": [
  {
   "cell_type": "code",
   "execution_count": null,
   "metadata": {},
   "outputs": [],
   "source": [
    "import pandas as pd\n",
    "\n",
    "# Leer el archivo .xls y cargar los datos en un DataFrame\n",
    "df = pd.read_excel(\"Precios-Mensuales-promedio-combustibles-Ciudad-de-Guatemala-mayo-2023-SERVICIO-COMPLETO.xlsx\")\n",
    "\n",
    "# Obtener el nombre de la columna para los meses\n",
    "mes_column_name = df.columns[0]\n",
    "\n",
    "# Usar melt para transformar las columnas de meses y años en una sola columna \"year_month\" y los valores de precio en una sola columna \"value\"\n",
    "df_melted = df.melt(id_vars=mes_column_name, var_name=\"mes\", value_name=\"value\")\n",
    "\n",
    "# Combinar las columnas \"MES/AÑO\" y \"mes\" en una sola columna \"year_month\"\n",
    "df_melted[\"year_month\"] = df_melted[mes_column_name].astype(str) + \"-\" + df_melted[\"mes\"]\n",
    "\n",
    "# Eliminar las columnas \"MES/AÑO\" y \"mes\" ahora que ya no son necesarias\n",
    "df_melted.drop(columns=[mes_column_name, \"mes\"], inplace=True)\n",
    "\n",
    "# Mostrar el DataFrame resultante\n",
    "df_melted.head()"
   ]
  }
 ],
 "metadata": {
  "kernelspec": {
   "display_name": ".env",
   "language": "python",
   "name": "python3"
  },
  "language_info": {
   "name": "python",
   "version": "3.10.9"
  },
  "orig_nbformat": 4
 },
 "nbformat": 4,
 "nbformat_minor": 2
}
