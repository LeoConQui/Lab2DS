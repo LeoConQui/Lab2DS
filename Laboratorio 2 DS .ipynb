{
 "cells": [
  {
   "cell_type": "code",
   "execution_count": 14,
   "id": "83b1ee39",
   "metadata": {},
   "outputs": [
    {
     "data": {
      "text/html": [
       "<div>\n",
       "<style scoped>\n",
       "    .dataframe tbody tr th:only-of-type {\n",
       "        vertical-align: middle;\n",
       "    }\n",
       "\n",
       "    .dataframe tbody tr th {\n",
       "        vertical-align: top;\n",
       "    }\n",
       "\n",
       "    .dataframe thead th {\n",
       "        text-align: right;\n",
       "    }\n",
       "</style>\n",
       "<table border=\"1\" class=\"dataframe\">\n",
       "  <thead>\n",
       "    <tr style=\"text-align: right;\">\n",
       "      <th></th>\n",
       "      <th>value</th>\n",
       "      <th>year_month</th>\n",
       "    </tr>\n",
       "  </thead>\n",
       "  <tbody>\n",
       "    <tr>\n",
       "      <th>0</th>\n",
       "      <td>NaN</td>\n",
       "      <td>MES/AÑO-Unnamed: 1</td>\n",
       "    </tr>\n",
       "    <tr>\n",
       "      <th>1</th>\n",
       "      <td>NaN</td>\n",
       "      <td>ENERO-Unnamed: 1</td>\n",
       "    </tr>\n",
       "    <tr>\n",
       "      <th>2</th>\n",
       "      <td>NaN</td>\n",
       "      <td>FEBRERO-Unnamed: 1</td>\n",
       "    </tr>\n",
       "    <tr>\n",
       "      <th>3</th>\n",
       "      <td>NaN</td>\n",
       "      <td>MARZO-Unnamed: 1</td>\n",
       "    </tr>\n",
       "    <tr>\n",
       "      <th>4</th>\n",
       "      <td>NaN</td>\n",
       "      <td>ABRIL-Unnamed: 1</td>\n",
       "    </tr>\n",
       "  </tbody>\n",
       "</table>\n",
       "</div>"
      ],
      "text/plain": [
       "   value          year_month\n",
       "0    NaN  MES/AÑO-Unnamed: 1\n",
       "1    NaN    ENERO-Unnamed: 1\n",
       "2    NaN  FEBRERO-Unnamed: 1\n",
       "3    NaN    MARZO-Unnamed: 1\n",
       "4    NaN    ABRIL-Unnamed: 1"
      ]
     },
     "execution_count": 14,
     "metadata": {},
     "output_type": "execute_result"
    }
   ],
   "source": [
    "import pandas as pd\n",
    "\n",
    "# Leer el archivo .xls y cargar los datos en un DataFrame\n",
    "df = pd.read_excel(\"Precios-Mensuales-promedio-combustibles-Ciudad-de-Guatemala-mayo-2023-SERVICIO-COMPLETO.xlsx\")\n",
    "\n",
    "# Obtener el nombre de la columna para los meses\n",
    "mes_column_name = df.columns[0]\n",
    "\n",
    "# Usar melt para transformar las columnas de meses y años en una sola columna \"year_month\" y los valores de precio en una sola columna \"value\"\n",
    "df_melted = df.melt(id_vars=mes_column_name, var_name=\"mes\", value_name=\"value\")\n",
    "\n",
    "# Combinar las columnas \"MES/AÑO\" y \"mes\" en una sola columna \"year_month\"\n",
    "df_melted[\"year_month\"] = df_melted[mes_column_name].astype(str) + \"-\" + df_melted[\"mes\"]\n",
    "\n",
    "# Eliminar las columnas \"MES/AÑO\" y \"mes\" ahora que ya no son necesarias\n",
    "df_melted.drop(columns=[mes_column_name, \"mes\"], inplace=True)\n",
    "\n",
    "# Mostrar el DataFrame resultante\n",
    "df_melted.head()\n",
    "\n",
    "\n"
   ]
  },
  {
   "cell_type": "code",
   "execution_count": null,
   "id": "5a4dc327",
   "metadata": {},
   "outputs": [],
   "source": []
  }
 ],
 "metadata": {
  "kernelspec": {
   "display_name": "Python 3 (ipykernel)",
   "language": "python",
   "name": "python3"
  },
  "language_info": {
   "codemirror_mode": {
    "name": "ipython",
    "version": 3
   },
   "file_extension": ".py",
   "mimetype": "text/x-python",
   "name": "python",
   "nbconvert_exporter": "python",
   "pygments_lexer": "ipython3",
   "version": "3.9.4"
  }
 },
 "nbformat": 4,
 "nbformat_minor": 5
}
